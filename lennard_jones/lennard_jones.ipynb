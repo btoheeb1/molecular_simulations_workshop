{
 "cells": [
  {
   "cell_type": "code",
   "execution_count": 2,
   "metadata": {},
   "outputs": [],
   "source": [
    "import numpy as np\n",
    "import warnings\n",
    "import matplotlib.pyplot as plt\n",
    "warnings.filterwarnings(\"ignore\",category=RuntimeWarning)"
   ]
  },
  {
   "cell_type": "markdown",
   "metadata": {},
   "source": [
    "# Lennard-Jones Potential\n",
    "#### $V_{\\text{LJ}}(r) = 4\\epsilon \\left[ \\left( \\frac{\\sigma}{r} \\right)^{12} - \\left( \\frac{\\sigma}{r} \\right)^{6} \\right] $"
   ]
  },
  {
   "cell_type": "markdown",
   "metadata": {},
   "source": [
    "# Task 1\n",
    "#### Write a function to calculate lj potential from inter-atomic distance"
   ]
  },
  {
   "cell_type": "code",
   "execution_count": 4,
   "metadata": {},
   "outputs": [],
   "source": [
    "def lj_potential(r,epsilon,sigma):\n",
    "    pass"
   ]
  },
  {
   "cell_type": "markdown",
   "metadata": {},
   "source": [
    "<details><summary>Click here for the solution</summary>\n",
    "\n",
    "```python\n",
    "def lj_potential(r, epsilon, sigma):\n",
    "    return 4 * epsilon * ((sigma / r)**12 - (sigma / r)**6)\n",
    "```\n",
    "\n",
    "</details>"
   ]
  },
  {
   "cell_type": "markdown",
   "metadata": {},
   "source": [
    "# Task 2\n",
    "#### i. Generate a range of linearly spaced distance and calculate lj potential for each distance\n",
    "#### ii. Plot lj potential curve \n",
    "#### iii. Draw a vertical line where the potential is minimum\n",
    "\n",
    "#### Position of minimum potential is at $2^{1/6}\\sigma$"
   ]
  },
  {
   "cell_type": "code",
   "execution_count": 7,
   "metadata": {},
   "outputs": [],
   "source": [
    "epsilon = 1\n",
    "sigma = 1.2\n",
    "#Write codes here"
   ]
  },
  {
   "cell_type": "markdown",
   "metadata": {},
   "source": [
    "<details><summary>Click here for the solution</summary>\n",
    "\n",
    "```python\n",
    "epsilon = 1  \n",
    "sigma = 1.2  \n",
    "\n",
    "# Generate a range of distances\n",
    "r = np.linspace(0, 8.0, 400)  \n",
    "\n",
    "# Calculate the Lennard-Jones potential for each distance\n",
    "V = lj_potential(r, epsilon, sigma)\n",
    "\n",
    "# Plot the Lennard-Jones potential\n",
    "plt.figure(figsize=(10, 7))\n",
    "plt.plot(r, V, color='b')\n",
    "plt.axhline(0, color='gray', linestyle='--', linewidth=0.7)\n",
    "plt.axvline(2**(1/6) * sigma, color='red', linestyle='--', linewidth=0.7)\n",
    "plt.xlabel(r'r(Å)',fontsize=18)\n",
    "plt.ylabel(r'$V_{LJ}$ (Kcal/mol)',fontsize=18)\n",
    "plt.xticks(np.arange(0, 6.5, 0.5), fontsize=15)  \n",
    "plt.yticks(np.arange(-1.5, 3.5, 0.5), fontsize=15) \n",
    "plt.ylim(-1.5,3)\n",
    "plt.xlim(0,6)\n",
    "plt.grid(alpha=0.5)\n",
    "plt.show()\n",
    "```\n",
    "</details>"
   ]
  },
  {
   "cell_type": "markdown",
   "metadata": {},
   "source": [
    "# Task 3 \n",
    "#### i. Write a function to calculate distance between two atoms\n",
    "#### ii. Print the potential energy for a system containing two atoms \n",
    "#### iii. Print the total potential energy for a system containing more than two atoms"
   ]
  },
  {
   "cell_type": "code",
   "execution_count": 12,
   "metadata": {},
   "outputs": [],
   "source": [
    "def distance(position1,position2):\n",
    "    pass\n"
   ]
  },
  {
   "cell_type": "code",
   "execution_count": 13,
   "metadata": {},
   "outputs": [],
   "source": [
    "atom1=np.array([7.863018,8.643432,2.931084])\n",
    "atom2=np.array([0.162484,4.518598,0.256988])\n",
    "\n",
    "#calculate potential here"
   ]
  },
  {
   "cell_type": "code",
   "execution_count": 14,
   "metadata": {},
   "outputs": [],
   "source": [
    "atoms=np.array([[7.863018,8.643432,2.931084],[0.162484,4.518598,0.256988],[5.994411,9.820224,6.759556],[2.647758,4.404009,3.695358],[6.158238,9.254576,9.648397]])\n",
    "\n",
    "#calculate potential"
   ]
  },
  {
   "cell_type": "markdown",
   "metadata": {},
   "source": [
    "<details><summary>Click here for the solution</summary>\n",
    "\n",
    "```python\n",
    "def distance(position1,position2):\n",
    "    r_diff=position1-position2\n",
    "    r2=np.sqrt(np.dot(r_diff,r_diff))\n",
    "    return r2\n",
    "\n",
    "atom1=np.array([7.863018,8.643432,2.931084])\n",
    "atom2=np.array([0.162484,4.518598,0.256988])\n",
    "\n",
    "r12=distance(atom1,atom2)\n",
    "potential=lj_potential(r12,epsilon,sigma)\n",
    "print(f' Potential Energy: {potential} Kcal/mol')\n",
    "\n",
    "atoms=np.array([[7.863018,8.643432,2.931084],[0.162484,4.518598,0.256988],[5.994411,9.820224,6.759556],[2.647758,4.404009,3.695358],[6.158238,9.254576,9.648397]])\n",
    "num_atoms=atoms.shape[0]\n",
    "energy=0\n",
    "for i in range (num_atoms):\n",
    "    for j in range(i+1,num_atoms):\n",
    "        r=distance(atoms[i],atoms[j])\n",
    "        energy+=lj_potential(r,epsilon,sigma)\n",
    "print(f'Potential enegy of system consisting of {num_atoms} atoms: {energy} Kcal/mol')\n",
    "```\n",
    "</details>"
   ]
  },
  {
   "cell_type": "markdown",
   "metadata": {},
   "source": [
    "# Task 4\n",
    "#### Read coordinates from a .xyz file and calculate potential energy (use 'argons.xyz')\n",
    "#### .xyz file format\n",
    "      Number of atoms\n",
    "      empty line\n",
    "      Ar x1 y1 z1\n",
    "      Ar x2 y2 z2 "
   ]
  },
  {
   "cell_type": "code",
   "execution_count": 15,
   "metadata": {},
   "outputs": [],
   "source": [
    "def read_xyz(file):\n",
    "    with open(file, 'r') as f:\n",
    "        lines = f.readlines()\n",
    "        num_particles = int(lines[0])\n",
    "        atom_data = [line.split() for line in lines[2:2 + num_particles]]\n",
    "        atom_types = [data[0] for data in atom_data]\n",
    "        positions = np.array([[float(x) for x in data[1:4]] for data in atom_data])\n",
    "    return positions\n",
    "# calculate potential energy after reading coordinates using read_xyz function"
   ]
  },
  {
   "cell_type": "markdown",
   "metadata": {},
   "source": [
    "<details><summary>Click here for the solution</summary>\n",
    "\n",
    "```python\n",
    "atoms_position=read_xyz('argons.xyz')\n",
    "num_atoms=atoms_position.shape[0]\n",
    "print(num_atoms)\n",
    "energy=0\n",
    "for i in range (num_atoms):\n",
    "    for j in range(i+1,num_atoms):\n",
    "        r=distance(atoms_position[i],atoms_position[j])\n",
    "        energy+=lj_potential(r,epsilon,sigma)\n",
    "print(f'Potential enegy of system consisting of {num_atoms} atoms: {energy} Kcal/mol')\n",
    "```\n",
    "</details>"
   ]
  },
  {
   "cell_type": "markdown",
   "metadata": {},
   "source": []
  }
 ],
 "metadata": {
  "kernelspec": {
   "display_name": "base",
   "language": "python",
   "name": "python3"
  },
  "language_info": {
   "codemirror_mode": {
    "name": "ipython",
    "version": 3
   },
   "file_extension": ".py",
   "mimetype": "text/x-python",
   "name": "python",
   "nbconvert_exporter": "python",
   "pygments_lexer": "ipython3",
   "version": "3.9.18"
  }
 },
 "nbformat": 4,
 "nbformat_minor": 2
}
