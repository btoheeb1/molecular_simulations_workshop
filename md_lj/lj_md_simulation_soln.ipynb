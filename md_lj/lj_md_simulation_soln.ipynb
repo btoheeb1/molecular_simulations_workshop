{
 "cells": [
  {
   "cell_type": "code",
   "execution_count": null,
   "metadata": {},
   "outputs": [],
   "source": [
    "#!pip install ase\n",
    "import numpy as np\n",
    "import warnings\n",
    "import matplotlib.pyplot as plt\n",
    "from mpl_toolkits.mplot3d import Axes3D\n",
    "from matplotlib.animation import FuncAnimation\n",
    "from ase.io import read\n",
    "import IPython.display as display\n",
    "from IPython.display import HTML\n",
    "warnings.filterwarnings(\"ignore\",category=RuntimeWarning)"
   ]
  },
  {
   "cell_type": "markdown",
   "metadata": {},
   "source": [
    "#### $V(r) = 4\\epsilon \\left[ \\left( \\frac{\\sigma}{r} \\right)^{12} - \\left( \\frac{\\sigma}{r} \\right)^{6} \\right] $\n",
    "#### $F(r)= -\\frac{dV}{dr}$\n",
    "##### $  \\frac{d}{dr}\\left(\\frac{\\sigma}{r}\\right)^{12} = \\frac{d}{dr} \\left( \\sigma^{12} r^{-12} \\right) = -12 \\sigma^{12} r^{-13} = -12 \\left(\\frac{\\sigma}{r}\\right)^{12} \\frac{1}{r} \\ $\n",
    "#### $\\frac{d}{dr}\\left(\\frac{\\sigma}{r}\\right)^6 = \\frac{d}{dr} \\left( \\sigma^6 r^{-6} \\right) = -6 \\sigma^6 r^{-7} = -6 \\left(\\frac{\\sigma}{r}\\right)^6 \\frac{1}{r} $\n",
    "#### $\\frac{dV}{dr} = 4 \\epsilon \\left[ -12 \\left(\\frac{\\sigma}{r}\\right)^{12} \\frac{1}{r} + 6 \\left(\\frac{\\sigma}{r}\\right)^6 \\frac{1}{r} \\right]$\n",
    "#### $\\frac{dV}{dr} = -48 \\epsilon \\left(\\frac{\\sigma}{r}\\right)^{12} \\frac{1}{r} + 24 \\epsilon \\left(\\frac{\\sigma}{r}\\right)^6 \\frac{1}{r} $\n",
    "#### $ F(r) = \\frac{48 \\epsilon \\sigma^{12}}{r^{13}} - \\frac{24 \\epsilon \\sigma^6}{r^{7}}$\n",
    "#### $F(r) = \\frac{24\\epsilon}{r} \\left[ 2\\left(\\frac{\\sigma}{r}\\right)^{12} - \\left(\\frac{\\sigma}{r}\\right)^6 \\right]$\n",
    "#### $F(r) = \\frac{24\\epsilon}{r} \\left[ 2\\left(\\frac{\\sigma}{r}\\right)^{12} - \\left(\\frac{\\sigma}{r}\\right)^{6} \\right]$"
   ]
  },
  {
   "cell_type": "markdown",
   "metadata": {},
   "source": [
    "# Task 1\n",
    "## Define a function to calculate LJ potential and forces "
   ]
  },
  {
   "cell_type": "code",
   "execution_count": null,
   "metadata": {},
   "outputs": [],
   "source": [
    "# Function to compute the Lennard-Jones potential and force\n",
    "def lj_potential_and_force(r, sigma, epsilon):\n",
    "    sr6 = (sigma / r) ** 6\n",
    "    sr12 = sr6 ** 2\n",
    "    potential = 4 * epsilon * (sr12 - sr6)\n",
    "    force = 24 * epsilon * (2 * sr12 - sr6) / r\n",
    "    return potential, force"
   ]
  },
  {
   "cell_type": "markdown",
   "metadata": {},
   "source": [
    "# Task 2\n",
    "## Define a function to calculate to apply Periodic Boundary Condition"
   ]
  },
  {
   "cell_type": "code",
   "execution_count": null,
   "metadata": {},
   "outputs": [],
   "source": [
    "def pbc(position1, position2, box_length):\n",
    "    r_diff = position1 - position2\n",
    "    for i in range(len(r_diff)):\n",
    "        if r_diff[i] > 0.5 * box_length:\n",
    "            r_diff[i] -= box_length\n",
    "        elif r_diff[i] < -0.5 * box_length:\n",
    "            r_diff[i] += box_length\n",
    "    return r_diff"
   ]
  },
  {
   "cell_type": "markdown",
   "metadata": {},
   "source": [
    "# Task 3\n",
    "## Calculate total potential energy and forces"
   ]
  },
  {
   "cell_type": "code",
   "execution_count": null,
   "metadata": {},
   "outputs": [],
   "source": [
    "# Function to compute the total potential energy and forces\n",
    "def compute_forces(positions, num_particles, box_length, sigma, epsilon, r_cut, mass):\n",
    "    accelerations = np.zeros_like(positions)\n",
    "    potential_energy = 0.0\n",
    "    for i in range(num_particles):\n",
    "        for j in range(i + 1, num_particles):\n",
    "            rij = pbc(positions[i], positions[j], box_length)\n",
    "            r = np.sqrt(np.dot(rij, rij))\n",
    "            if r < r_cut:\n",
    "                potential, force = lj_potential_and_force(r, sigma, epsilon)\n",
    "                potential_energy += potential\n",
    "                force_vector = (force * rij / r) / mass\n",
    "                accelerations[i] += force_vector\n",
    "                accelerations[j] -= force_vector\n",
    "    return potential_energy, accelerations\n"
   ]
  },
  {
   "cell_type": "markdown",
   "metadata": {},
   "source": [
    "## Function to read and write file"
   ]
  },
  {
   "cell_type": "code",
   "execution_count": null,
   "metadata": {},
   "outputs": [],
   "source": [
    "# Function to read XYZ file\n",
    "def read_xyz(file_path):\n",
    "    with open(file_path, 'r') as f:\n",
    "        lines = f.readlines()\n",
    "\n",
    "    num_particles = int(lines[0].strip())\n",
    "    positions = []\n",
    "    for line in lines[2:2+num_particles]:\n",
    "        _, x, y, z = line.split()\n",
    "        positions.append([float(x), float(y), float(z)])\n",
    "    \n",
    "    positions = np.array(positions)\n",
    "    return positions, num_particles\n",
    "\n",
    "# Function to write XYZ file\n",
    "def write_xyz(file_path, positions, step):\n",
    "    with open(file_path, 'a') as f:\n",
    "        f.write(f\"{len(positions)}\\n\")\n",
    "        f.write(f\"Step {step}\\n\")\n",
    "        for pos in positions:\n",
    "            f.write(f\"Ar {pos[0]} {pos[1]} {pos[2]}\\n\")\n",
    "\n",
    "# Function to write energy data\n",
    "def write_energy(file_path, step, potential_energy, kinetic_energy, total_energy):\n",
    "    with open(file_path, 'a') as f:\n",
    "        f.write(f\"Step {step}, Potential Energy: {potential_energy:.4f}, Kinetic Energy: {kinetic_energy:.4f}, Total Energy: {total_energy:.4f}\\n\")"
   ]
  },
  {
   "cell_type": "markdown",
   "metadata": {},
   "source": [
    "### Velocity Verlet Integration Method\n",
    "\n",
    "1. **Update Positions**:\n",
    "\n",
    "   $ \\mathbf{r}(t + \\Delta t) = \\mathbf{r}(t) + \\mathbf{v}(t) \\Delta t + \\frac{1}{2} \\mathbf{a}(t) \\Delta t^2 $\n",
    "\n",
    "\n",
    "2. **Compute Forces and Update Accelerations**:\n",
    "\n",
    "3. **Update Velocities**:\n",
    "\n",
    "   $ \\mathbf{v}(t + \\Delta t) = \\mathbf{v}(t) + \\frac{1}{2} \\left(\\mathbf{a}(t) + \\mathbf{a}(t + \\Delta t)\\right) \\Delta t $\n",
    "\n",
    "\n"
   ]
  },
  {
   "cell_type": "markdown",
   "metadata": {},
   "source": [
    "# Task 4\n",
    "## Define velocity verlet integrator"
   ]
  },
  {
   "cell_type": "code",
   "execution_count": null,
   "metadata": {},
   "outputs": [],
   "source": [
    "# Velocity Verlet integration\n",
    "def velocity_verlet(positions, velocities, accelerations, num_particles, box_length, time_step, sigma, epsilon, r_cut, mass):\n",
    "    # Update positions\n",
    "    positions += velocities * time_step + 0.5 * accelerations * time_step ** 2\n",
    "    positions = positions % box_length  # Apply periodic boundary conditions\n",
    "    \n",
    "    # Compute new accelerations and potential energy\n",
    "    potential_energy, new_accelerations = compute_forces(positions, num_particles, box_length, sigma, epsilon, r_cut, mass)\n",
    "    \n",
    "    # Update velocities\n",
    "    velocities += 0.5 * (accelerations + new_accelerations) * time_step\n",
    "    \n",
    "    return positions, velocities, new_accelerations, potential_energy\n"
   ]
  },
  {
   "cell_type": "code",
   "execution_count": null,
   "metadata": {},
   "outputs": [],
   "source": [
    "#Parameter Initialization\n",
    "sigma = 3.4  # in Angstroms\n",
    "epsilon = 0.238  # in kcal/mol\n",
    "\n",
    "# Simulation parameters\n",
    "r_cut = 2.5 * sigma  # Cutoff distance, scaled by sigma\n",
    "kB = 1.9872041e-3  # Boltzmann constant in kcal/(mol*K)\n",
    "\n",
    "# MD simulation parameters\n",
    "box_length = 10.0  # Angstroms\n",
    "time_step = 0.001  # Picoseconds\n",
    "num_steps = 1000  # Total number of steps\n",
    "temperature = 300.0  # Kelvin\n",
    "m_argon = 39.948  # atomic mass units (amu)\n"
   ]
  },
  {
   "cell_type": "code",
   "execution_count": null,
   "metadata": {},
   "outputs": [],
   "source": [
    "#Initialize velocities\n",
    "positions, num_particles = read_xyz('argons.xyz')\n",
    "velocities = np.random.randn(num_particles, 3)\n",
    "velocities -= np.mean(velocities, axis=0)  # Zero total momentum\n",
    "velocities *= np.sqrt(3 * kB * temperature / epsilon) / np.sqrt(m_argon)  # Scale velocities\n",
    "# Output files\n",
    "xyz_output_file = 'md_trajectory.xyz'\n",
    "energy_output_file = 'md_energy.txt'\n",
    "\n",
    "# Clear the output files if they already exist\n",
    "open(xyz_output_file, 'w').close()\n",
    "open(energy_output_file, 'w').close()"
   ]
  },
  {
   "cell_type": "markdown",
   "metadata": {},
   "source": [
    "# Task 5\n",
    "## Run MD simulation"
   ]
  },
  {
   "cell_type": "code",
   "execution_count": null,
   "metadata": {},
   "outputs": [],
   "source": [
    "\n",
    "accelerations = np.zeros_like(positions)\n",
    "potential_energy, accelerations = compute_forces(positions, num_particles, box_length, sigma, epsilon, r_cut, m_argon)\n",
    "\n",
    "for step in range(num_steps):\n",
    "    positions, velocities, accelerations, potential_energy = velocity_verlet(\n",
    "        positions, velocities, accelerations, num_particles, box_length, time_step, sigma, epsilon, r_cut, m_argon)\n",
    "    kinetic_energy = 0.5 * np.sum(velocities ** 2) * m_argon \n",
    "    total_energy = potential_energy + kinetic_energy\n",
    "    \n",
    "    # Write the positions to the XYZ file\n",
    "    write_xyz(xyz_output_file, positions, step)\n",
    "    \n",
    "    # Write the energy data to the text file\n",
    "    write_energy(energy_output_file, step, potential_energy, kinetic_energy, total_energy)\n",
    "    \n",
    "    if step % 10 == 0:\n",
    "        print(f\"Step {step}/{num_steps}, Total Energy: {total_energy:.4f}\")"
   ]
  },
  {
   "cell_type": "markdown",
   "metadata": {},
   "source": [
    "## Visualize Trajectory"
   ]
  },
  {
   "cell_type": "code",
   "execution_count": null,
   "metadata": {},
   "outputs": [],
   "source": [
    "plt.ion()\n",
    "\n",
    "# Function to read the XYZ file\n",
    "def read_xyz_file(filename):\n",
    "    atoms = read(filename, index=':')  # Reads all frames\n",
    "    return atoms\n",
    "\n",
    "def update(num, atoms, graph, ax):\n",
    "    ax.clear()  # Clear previous frame\n",
    "    ax.set_xlim([atoms[num].positions[:, 0].min() - 1, atoms[num].positions[:, 0].max() + 1])\n",
    "    ax.set_ylim([atoms[num].positions[:, 1].min() - 1, atoms[num].positions[:, 1].max() + 1])\n",
    "    ax.set_zlim([atoms[num].positions[:, 2].min() - 1, atoms[num].positions[:, 2].max() + 1])\n",
    "    ax.set_xlabel('X')\n",
    "    ax.set_ylabel('Y')\n",
    "    ax.set_zlabel('Z')\n",
    "    graph = ax.scatter(atoms[num].positions[:, 0], atoms[num].positions[:, 1], atoms[num].positions[:, 2], c='blue', marker='o')\n",
    "    return graph,\n",
    "\n",
    "filename = 'md_trajectory.xyz'\n",
    "\n",
    "# Read the XYZ file\n",
    "trajectory = read_xyz_file(filename)\n",
    "\n",
    "# Setup the figure and axis for 3D plotting\n",
    "fig = plt.figure(figsize=(10, 8))\n",
    "ax = fig.add_subplot(111, projection='3d')\n",
    "ax.set_xlabel('X')\n",
    "ax.set_ylabel('Y')\n",
    "ax.set_zlabel('Z')\n",
    "\n",
    "# Create animation\n",
    "ani = FuncAnimation(fig, update, frames=len(trajectory), fargs=(trajectory, None, ax), blit=False)\n",
    "html = HTML(ani.to_jshtml())\n",
    "display.display(html)"
   ]
  }
 ],
 "metadata": {
  "kernelspec": {
   "display_name": "base",
   "language": "python",
   "name": "python3"
  },
  "language_info": {
   "codemirror_mode": {
    "name": "ipython",
    "version": 3
   },
   "file_extension": ".py",
   "mimetype": "text/x-python",
   "name": "python",
   "nbconvert_exporter": "python",
   "pygments_lexer": "ipython3",
   "version": "3.9.18"
  }
 },
 "nbformat": 4,
 "nbformat_minor": 2
}
