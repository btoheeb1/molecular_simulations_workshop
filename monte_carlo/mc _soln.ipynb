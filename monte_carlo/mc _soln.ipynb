{
 "cells": [
  {
   "cell_type": "code",
   "execution_count": null,
   "metadata": {},
   "outputs": [],
   "source": [
    "!pip install ase\n",
    "import numpy as np\n",
    "import warnings\n",
    "import matplotlib.pyplot as plt\n",
    "from mpl_toolkits.mplot3d import Axes3D\n",
    "from matplotlib.animation import FuncAnimation\n",
    "from ase.io import read\n",
    "import IPython.display as display\n",
    "from IPython.display import HTML\n",
    "warnings.filterwarnings(\"ignore\",category=RuntimeWarning)"
   ]
  },
  {
   "cell_type": "code",
   "execution_count": null,
   "metadata": {},
   "outputs": [],
   "source": [
    "# Function to calculate Lennard-Jones potential\n",
    "def lj_potential(r, epsilon, sigma):\n",
    "    return 4 * epsilon * ((sigma / r)**12 - (sigma / r)**6)\n",
    "# Function to calculate distance between two points\n",
    "def distance(position1,position2):\n",
    "    r_diff=position1-position2\n",
    "    r_pbc=r_diff\n",
    "    r2=np.sqrt(np.dot(r_pbc,r_pbc))\n",
    "    return r2"
   ]
  },
  {
   "cell_type": "markdown",
   "metadata": {},
   "source": [
    "# Task 1"
   ]
  },
  {
   "cell_type": "code",
   "execution_count": null,
   "metadata": {},
   "outputs": [],
   "source": [
    "def total_energy(positions, num_particles,sigma, epsilon, r_cut):\n",
    "    energy = 0.0\n",
    "    for i in range(num_particles):\n",
    "        for j in range(i + 1, num_particles):\n",
    "            r = distance(positions[i],positions[j])\n",
    "            if r < r_cut:\n",
    "                energy += lj_potential(r, epsilon,sigma)\n",
    "    return energy"
   ]
  },
  {
   "cell_type": "code",
   "execution_count": null,
   "metadata": {},
   "outputs": [],
   "source": [
    "# Read initial positions from XYZ file\n",
    "def read_xyz(file):\n",
    "    with open(file, 'r') as f:\n",
    "        lines = f.readlines()\n",
    "        num_particles = int(lines[0])\n",
    "        atom_data = [line.split() for line in lines[2:2 + num_particles]]\n",
    "        atom_types = [data[0] for data in atom_data]\n",
    "        positions = np.array([[float(x) for x in data[1:4]] for data in atom_data])\n",
    "    return atom_types, positions\n",
    "# Write positions to XYZ file\n",
    "def write_xyz(file, atom_types, positions, step, energy):\n",
    "    num_particles = len(atom_types)\n",
    "    with open(file, 'a') as f:\n",
    "        f.write(f\"{num_particles}\\n\")\n",
    "        f.write(f\"Step {step}, Energy = {energy}\\n\")\n",
    "        for atom_type, pos in zip(atom_types, positions):\n",
    "            f.write(f\"{atom_type} {pos[0]:.6f} {pos[1]:.6f} {pos[2]:.6f}\\n\")"
   ]
  },
  {
   "cell_type": "code",
   "execution_count": null,
   "metadata": {},
   "outputs": [],
   "source": [
    "# Lennard-Jones potential parameters for Argon\n",
    "sigma = 3.4  # in Angstroms\n",
    "epsilon = 0.238  # in kcal/mol\n",
    "\n",
    "# Simulation parameters\n",
    "temperature = 200.0  # Temperature in Kelvin\n",
    "r_cut = 2.5 * sigma  # Cutoff distance, scaled by sigma\n",
    "num_steps = 50  # Number of Monte Carlo steps\n",
    "dr_max = 0.1 * sigma  # Maximum displacement, scaled by sigma"
   ]
  },
  {
   "cell_type": "code",
   "execution_count": null,
   "metadata": {},
   "outputs": [],
   "source": [
    "input_file = 'argons.xyz'\n",
    "output_file = 'trajectory_out.xyz'\n",
    "atom_types, positions = read_xyz(input_file)\n",
    "num_particles = len(atom_types)\n"
   ]
  },
  {
   "cell_type": "markdown",
   "metadata": {},
   "source": [
    "# Task 2"
   ]
  },
  {
   "cell_type": "code",
   "execution_count": null,
   "metadata": {},
   "outputs": [],
   "source": [
    "#Monte Carlo loop\n",
    "k_b=1.38064852e-23/1.9872041e-3 #in Kcal/mol/K\n",
    "for step in range(1, num_steps + 1):\n",
    "    i = np.random.randint(num_particles)\n",
    "    old_position = positions[i].copy()\n",
    "    old_energy = total_energy(positions, num_particles, sigma, epsilon, r_cut)\n",
    "\n",
    "    # Trial move\n",
    "    positions[i] += dr_max * (np.random.rand(3) - 0.5)\n",
    "\n",
    "    new_energy = total_energy(positions, num_particles, sigma, epsilon, r_cut)\n",
    "    delta_energy = new_energy - old_energy\n",
    "\n",
    "    # Metropolis criterion\n",
    "    if delta_energy<0 or np.random.rand() < np.exp(-delta_energy / (k_b * temperature )):\n",
    "        energy = new_energy\n",
    "        status='accepted'\n",
    "    else:\n",
    "        positions[i] = old_position  # Reject move\n",
    "        status='rejected'\n",
    "\n",
    "    # Write positions to the output file after each step\n",
    "    write_xyz(output_file, atom_types, positions, step, energy)\n",
    "\n",
    "    print(f'Step:{step}, Move {status}, Energy={energy}')"
   ]
  },
  {
   "cell_type": "code",
   "execution_count": null,
   "metadata": {},
   "outputs": [],
   "source": [
    "plt.ion()\n",
    "\n",
    "# Function to read the XYZ file\n",
    "def read_xyz_file(filename):\n",
    "    atoms = read(filename, index=':')  # Reads all frames\n",
    "    return atoms\n",
    "\n",
    "def update(num, atoms, graph, ax):\n",
    "    ax.clear()  # Clear previous frame\n",
    "    ax.set_xlim([atoms[num].positions[:, 0].min() - 1, atoms[num].positions[:, 0].max() + 1])\n",
    "    ax.set_ylim([atoms[num].positions[:, 1].min() - 1, atoms[num].positions[:, 1].max() + 1])\n",
    "    ax.set_zlim([atoms[num].positions[:, 2].min() - 1, atoms[num].positions[:, 2].max() + 1])\n",
    "    ax.set_xlabel('X')\n",
    "    ax.set_ylabel('Y')\n",
    "    ax.set_zlabel('Z')\n",
    "    graph = ax.scatter(atoms[num].positions[:, 0], atoms[num].positions[:, 1], atoms[num].positions[:, 2], c='blue', marker='o')\n",
    "    return graph,\n",
    "\n",
    "filename = 'trajectory_out.xyz'\n",
    "\n",
    "# Read the XYZ file\n",
    "trajectory = read_xyz_file(filename)\n",
    "\n",
    "# Setup the figure and axis for 3D plotting\n",
    "fig = plt.figure(figsize=(10, 8))\n",
    "ax = fig.add_subplot(111, projection='3d')\n",
    "ax.set_xlabel('X')\n",
    "ax.set_ylabel('Y')\n",
    "ax.set_zlabel('Z')\n",
    "\n",
    "# Create animation\n",
    "ani = FuncAnimation(fig, update, frames=len(trajectory), fargs=(trajectory, None, ax), blit=False)\n",
    "html = HTML(ani.to_jshtml())\n",
    "display.display(html)"
   ]
  },
  {
   "cell_type": "code",
   "execution_count": null,
   "metadata": {},
   "outputs": [],
   "source": [
    "def read_xyz_multi_frame(file_path):\n",
    "    with open(file_path, 'r') as f:\n",
    "        lines = f.readlines()\n",
    "    \n",
    "    frames = []\n",
    "    i = 0\n",
    "    while i < len(lines):\n",
    "        num_particles = int(lines[i].strip())\n",
    "        positions = []\n",
    "        for line in lines[i+2:i+2+num_particles]:\n",
    "            _, x, y, z = line.split()\n",
    "            positions.append([float(x), float(y), float(z)])\n",
    "        positions = np.array(positions)\n",
    "        frames.append(positions)\n",
    "        i += num_particles + 2\n",
    "    \n",
    "    return frames, num_particles"
   ]
  },
  {
   "cell_type": "markdown",
   "metadata": {},
   "source": [
    "# Task 3\n",
    "#### Calculate average potential energy "
   ]
  },
  {
   "cell_type": "code",
   "execution_count": null,
   "metadata": {},
   "outputs": [],
   "source": [
    "frames, num_particles = read_xyz_multi_frame(output_file)\n",
    "# Calculate the total potential energy for each frame\n",
    "energies = []\n",
    "for positions in frames:\n",
    "    total_potential_energy = total_energy(positions, num_particles, sigma, epsilon, r_cut)\n",
    "    energies.append(total_potential_energy)\n",
    "\n",
    "# Calculate the average potential energy per frame\n",
    "average_potential_energy_per_frame = np.mean(energies)\n",
    "\n",
    "print(f\"Average potential energy per frame: {average_potential_energy_per_frame:.4f}\")"
   ]
  },
  {
   "cell_type": "markdown",
   "metadata": {},
   "source": [
    "# Task 4\n",
    "#### i. Complete closest_distances function to calculate closest distance\n",
    "#### ii. Calculate closest distances for all frames\n",
    "#### iii. Plot distribution of closest distances using sns.distplot"
   ]
  },
  {
   "cell_type": "code",
   "execution_count": null,
   "metadata": {},
   "outputs": [],
   "source": [
    "def closest_distances(positions, num_particles):\n",
    "    closest_dist = []\n",
    "    for i in range(num_particles):\n",
    "        min_dist = np.inf\n",
    "        for j in range(num_particles):\n",
    "            if i != j:\n",
    "                dist = distance(positions[i], positions[j])\n",
    "                if dist < min_dist:\n",
    "                    min_dist = dist\n",
    "        closest_dist.append(min_dist)\n",
    "    return closest_dist"
   ]
  },
  {
   "cell_type": "code",
   "execution_count": null,
   "metadata": {},
   "outputs": [],
   "source": [
    "# Calculate the closest distances for all frames\n",
    "all_closest_distances = []\n",
    "for positions in frames:\n",
    "    closest_dist = closest_distances(positions, num_particles)\n",
    "    all_closest_distances.extend(closest_dist)"
   ]
  },
  {
   "cell_type": "code",
   "execution_count": null,
   "metadata": {},
   "outputs": [],
   "source": [
    "# Plot the distribution of the closest distances\n",
    "import seaborn as sns\n",
    "sns.distplot(all_closest_distances)\n",
    "plt.xlabel('r')\n",
    "plt.ylabel('Density')\n",
    "plt.title('Distribution of Closest Distances in a Cluster')\n",
    "plt.show()"
   ]
  },
  {
   "cell_type": "code",
   "execution_count": null,
   "metadata": {},
   "outputs": [],
   "source": []
  }
 ],
 "metadata": {
  "kernelspec": {
   "display_name": "base",
   "language": "python",
   "name": "python3"
  },
  "language_info": {
   "codemirror_mode": {
    "name": "ipython",
    "version": 3
   },
   "file_extension": ".py",
   "mimetype": "text/x-python",
   "name": "python",
   "nbconvert_exporter": "python",
   "pygments_lexer": "ipython3",
   "version": "3.9.-1"
  }
 },
 "nbformat": 4,
 "nbformat_minor": 2
}
